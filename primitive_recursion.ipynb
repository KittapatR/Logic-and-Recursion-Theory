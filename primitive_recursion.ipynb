{
 "cells": [
  {
   "cell_type": "code",
   "execution_count": 7,
   "metadata": {},
   "outputs": [
    {
     "name": "stdout",
     "output_type": "stream",
     "text": [
      "(0 0) (1 1) (2 2) (3 3) (4 4) (5 5) (6 6) (7 0) (8 1) (9 2) (10 3) (11 4) (12 5) (13 6) (14 0) (15 1) (16 2) (17 3) (18 4) (19 5) "
     ]
    }
   ],
   "source": [
    "def anti_characteristic(a, m):\n",
    "    return 0 if a == m else 1\n",
    "\n",
    "def characteristic(a, m):\n",
    "    return 1 if a == m else 0\n",
    "\n",
    "def remainder(a,b):\n",
    "    if a == 0: return 0\n",
    "    else:\n",
    "        return (remainder(a-1,b)+1) * anti_characteristic(b,0) * anti_characteristic(remainder(a-1,b),b-1)\n",
    "\n",
    "for i in range(20):\n",
    "    print(f\"({i}\",remainder(i, 7), end = \") \")"
   ]
  },
  {
   "cell_type": "code",
   "execution_count": 8,
   "metadata": {},
   "outputs": [
    {
     "name": "stdout",
     "output_type": "stream",
     "text": [
      "(0 0) (1 0) (2 0) (3 0) (4 0) (5 0) (6 0) (7 1) (8 1) (9 1) (10 1) (11 1) (12 1) (13 1) (14 2) (15 2) (16 2) (17 2) (18 2) (19 2) "
     ]
    }
   ],
   "source": [
    "def quotient(a,b):\n",
    "    if a == 0: return 0\n",
    "    else:\n",
    "        return (quotient(a-1,b) + characteristic(remainder(a,b), 0)) * anti_characteristic(b,0)\n",
    "\n",
    "for i in range(20):\n",
    "    print(f\"({i}\", quotient(i, 7), end = \") \")     "
   ]
  },
  {
   "cell_type": "code",
   "execution_count": 28,
   "metadata": {},
   "outputs": [
    {
     "data": {
      "text/plain": [
       "20"
      ]
     },
     "execution_count": 28,
     "metadata": {},
     "output_type": "execute_result"
    }
   ],
   "source": [
    "def division(a,b):\n",
    "    return 0 if b == 0 else a // b\n",
    "\n",
    "def euclidean_algorithm(n,a,b):\n",
    "    if n == 0:\n",
    "        return (anti_characteristic(a, 0) * anti_characteristic(b, 0))\\\n",
    "            * (max(a,b) - division(max(a,b),min(a,b)) * min(a,b))\n",
    "    elif n == 1:\n",
    "        return min(a,b) - division(min(a,b),euclidean_algorithm(0,a,b)) * euclidean_algorithm(0,a,b)\n",
    "    else:\n",
    "        return euclidean_algorithm(n-2, a, b)\\\n",
    "             - division(euclidean_algorithm(n-2,a,b), euclidean_algorithm(n-1,a,b)) * euclidean_algorithm(n-1,a,b)\n",
    "\n",
    "def gcd(a,b):\n",
    "    previous_value = 0\n",
    "    n = 0\n",
    "    while True:\n",
    "        n += 1\n",
    "        if euclidean_algorithm(n,a,b) != 0:\n",
    "            previous_value = euclidean_algorithm(n,a,b)\n",
    "        else:\n",
    "            break\n",
    "    return previous_value\n",
    "\n",
    "gcd(660,1240)"
   ]
  }
 ],
 "metadata": {
  "kernelspec": {
   "display_name": "Python 3.9.11 64-bit",
   "language": "python",
   "name": "python3"
  },
  "language_info": {
   "codemirror_mode": {
    "name": "ipython",
    "version": 3
   },
   "file_extension": ".py",
   "mimetype": "text/x-python",
   "name": "python",
   "nbconvert_exporter": "python",
   "pygments_lexer": "ipython3",
   "version": "3.9.11"
  },
  "orig_nbformat": 4,
  "vscode": {
   "interpreter": {
    "hash": "358fbd4fdcead436bd8b95a4b3604232b9a59f5e4677fab4d203318818c673c1"
   }
  }
 },
 "nbformat": 4,
 "nbformat_minor": 2
}
