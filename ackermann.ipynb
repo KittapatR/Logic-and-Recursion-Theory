{
 "cells": [
  {
   "cell_type": "markdown",
   "metadata": {},
   "source": [
    "# Nested recursion"
   ]
  },
  {
   "cell_type": "code",
   "execution_count": 13,
   "metadata": {},
   "outputs": [
    {
     "name": "stdout",
     "output_type": "stream",
     "text": [
      "2\n",
      "2\n",
      "5\n",
      "125\n",
      "11242944284628383\n",
      "31668650694963573095761846748978235620685889665527954791390481155688848267141459944055703386319271490559841098758041613331627673130964560402502786167254392160038796184215434297738356636527333373756583094702500868074035291046465395461124110112670955029950090916277062207192225052247365523140961203532829343884361131828033536123326393523621964888861260720967706810644006083483253831234939944588587658081251429227329998541462092987389246469012081242993906620196979818986433504483302552870140926046028665162858801237269168955404483188011673497194518375170103404551819444397763775765834703741965053692699687268248549993084328707684814483112360073223980045360702509738135714872335396416855942866054694214159839240\n"
     ]
    }
   ],
   "source": [
    "from typing import Callable\n",
    "\n",
    "g: Callable[[int], int] = lambda x: x + 1 # successor fn\n",
    "h: Callable[[int, int, int], int] = lambda x,y,z: x + y + z # addition\n",
    "p: Callable[[int, int, int], int] = lambda x,y,z: x * y * z # multiplication\n",
    "\n",
    "def f(x: int, n: int) -> int: return g(n) if x == 0 else h(f(x-1, p(f(x-1,n), x-1, n)), x-1, n)\n",
    "\n",
    "for i in range(6):\n",
    "    print(f(i,1))"
   ]
  }
 ],
 "metadata": {
  "kernelspec": {
   "display_name": "Python 3.9.11 64-bit",
   "language": "python",
   "name": "python3"
  },
  "language_info": {
   "codemirror_mode": {
    "name": "ipython",
    "version": 3
   },
   "file_extension": ".py",
   "mimetype": "text/x-python",
   "name": "python",
   "nbconvert_exporter": "python",
   "pygments_lexer": "ipython3",
   "version": "3.9.11"
  },
  "orig_nbformat": 4,
  "vscode": {
   "interpreter": {
    "hash": "358fbd4fdcead436bd8b95a4b3604232b9a59f5e4677fab4d203318818c673c1"
   }
  }
 },
 "nbformat": 4,
 "nbformat_minor": 2
}
