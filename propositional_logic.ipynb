{
 "cells": [
  {
   "cell_type": "markdown",
   "metadata": {},
   "source": [
    "## Parsing algorithm for sentential logic"
   ]
  },
  {
   "cell_type": "code",
   "execution_count": 81,
   "metadata": {},
   "outputs": [
    {
     "name": "stdout",
     "output_type": "stream",
     "text": [
      "((A&B)>((~C)|(D<C)))\n"
     ]
    },
    {
     "data": {
      "text/plain": [
       "[['A', '&', 'B'], '>', [['~', 'C'], '|', ['D', '<', 'C']]]"
      ]
     },
     "execution_count": 81,
     "metadata": {},
     "output_type": "execute_result"
    }
   ],
   "source": [
    "# Define set of binary relation: A?B\n",
    "binary_operator = [\"|\", \"&\", \">\", \"<\"]\n",
    "# Define set of unary relation: ?A\n",
    "unary_operator = [\"~\"]\n",
    "# Define set of matched parentheses\n",
    "parenthesis = {\"(\": \")\", \"[\": \"]\", \"{\": \"}\"}\n",
    "\n",
    "example = \"((A&B)>((~C)|(D<C)))\"\n",
    "# example = \"Arrr\"\n",
    "\n",
    "def parsing_expression(text):\n",
    "    stack = []\n",
    "    expression = []\n",
    "    pending = []\n",
    "    \n",
    "    for test in text:\n",
    "        if stack == []:\n",
    "            if test in list(parenthesis):\n",
    "                stack.append(test)\n",
    "            else:\n",
    "                if test not in (unary_operator + binary_operator + list(parenthesis.values())):\n",
    "                    stack.append(test)\n",
    "                else:\n",
    "                    raise(SyntaxError)\n",
    "        else:\n",
    "            if stack[0] in list(parenthesis):\n",
    "                if text[-1] != parenthesis[stack[0]]: raise(SyntaxError)\n",
    "                if test in list(parenthesis):\n",
    "                    pending.append(test)\n",
    "                    stack.append(test)\n",
    "                elif (test in unary_operator) and (len(stack) == 1):\n",
    "                    stack.append(test)\n",
    "                    expression.append(test)\n",
    "                elif (pending != []) or (test not in binary_operator):\n",
    "                    if test in list(parenthesis.values()):\n",
    "                        if pending != []:\n",
    "                            if test == parenthesis[pending[-1]]:\n",
    "                                pending.pop()\n",
    "                                stack.append(test)\n",
    "                            else:\n",
    "                                raise(SyntaxError)\n",
    "                        else:\n",
    "                            if stack[0] in list(parenthesis):\n",
    "                                if stack[1] not in unary_operator:\n",
    "                                    expression.append(\"\".join(stack[1:]))\n",
    "                                else:\n",
    "                                    expression.append(\"\".join(stack[2:]))\n",
    "                            else:\n",
    "                                expression.append(\"\".join(stack))\n",
    "                    else:\n",
    "                        stack.append(test)\n",
    "                else:\n",
    "                    if stack[1] not in unary_operator:\n",
    "                        expression.append(\"\".join(stack[1:]))\n",
    "                        expression.append(test)\n",
    "                        stack = list(stack[0])\n",
    "                    else:\n",
    "                        raise(SyntaxError)\n",
    "            else:\n",
    "                if test not in (unary_operator + binary_operator + list(parenthesis) + list(parenthesis.values())):\n",
    "                    stack.append(test)\n",
    "\n",
    "    if stack[0] not in list(parenthesis):\n",
    "        expression.append(\"\".join(stack))\n",
    "\n",
    "    return expression\n",
    "\n",
    "def parsing_tree(text):\n",
    "    tree = parsing_expression(text)\n",
    "    if tree[0] not in unary_operator:\n",
    "        if tree[0][0] in list(parenthesis):\n",
    "            tree[0] = parsing_tree(tree[0])\n",
    "        if tree[2][0] in list(parenthesis):\n",
    "            tree[2] = parsing_tree(tree[2])\n",
    "    else:\n",
    "        if tree[1][0] in list(parenthesis):\n",
    "            tree[1] = parsing_tree(tree[1])\n",
    "    return tree\n",
    "        \n",
    "print(example)\n",
    "parsing_tree(example)"
   ]
  },
  {
   "cell_type": "markdown",
   "metadata": {},
   "source": [
    "## Limitation of this code\n",
    "\n",
    "- It doesn't support multi-character operator.\n",
    "- It doesn't trim a space out!"
   ]
  },
  {
   "cell_type": "markdown",
   "metadata": {},
   "source": [
    "# Recursion Theorem\n",
    "\n",
    "Suppose we have $\\bar{h}: \\mathbb{N} \\rightarrow \\mathbb{N}$ s.t. $\\bar{h}(0) = 0$ and $\\bar{h}(S(x)) = 1 - \\bar{h}(x)$"
   ]
  },
  {
   "cell_type": "code",
   "execution_count": 1,
   "metadata": {},
   "outputs": [
    {
     "name": "stdout",
     "output_type": "stream",
     "text": [
      "0 1 0 1 0 1 0 1 0 1 0 1 0 1 0 1 0 1 0 1 0 1 0 1 0 1 0 1 0 1 0 1 0 1 0 1 0 1 0 1 0 1 0 1 0 1 0 1 0 1 0 1 0 1 0 1 0 1 0 1 0 1 0 1 0 1 0 1 0 1 0 1 0 1 0 1 0 1 0 1 0 1 0 1 0 1 0 1 0 1 0 1 0 1 0 1 0 1 0 1 0 1 0 1 0 1 0 1 0 1 0 1 0 1 0 1 0 1 0 1 0 1 0 1 0 1 0 1 0 1 0 1 0 1 0 1 0 1 0 1 0 1 0 1 0 1 0 1 0 1 0 1 0 1 0 1 0 1 0 1 0 1 0 1 0 1 0 1 0 1 0 1 0 1 0 1 0 1 0 1 0 1 0 1 0 1 0 1 0 1 0 1 0 1 0 1 0 1 0 1 "
     ]
    }
   ],
   "source": [
    "inv_successor = lambda x: x - 1\n",
    "def recursion(x):\n",
    "    if x == 0: return 0\n",
    "    else: return 1 - recursion(inv_successor(x))\n",
    "\n",
    "for i in range(200):\n",
    "    print(recursion(i), end = \" \")"
   ]
  }
 ],
 "metadata": {
  "kernelspec": {
   "display_name": "Python 3.9.11 64-bit",
   "language": "python",
   "name": "python3"
  },
  "language_info": {
   "codemirror_mode": {
    "name": "ipython",
    "version": 3
   },
   "file_extension": ".py",
   "mimetype": "text/x-python",
   "name": "python",
   "nbconvert_exporter": "python",
   "pygments_lexer": "ipython3",
   "version": "3.9.11"
  },
  "orig_nbformat": 4,
  "vscode": {
   "interpreter": {
    "hash": "358fbd4fdcead436bd8b95a4b3604232b9a59f5e4677fab4d203318818c673c1"
   }
  }
 },
 "nbformat": 4,
 "nbformat_minor": 2
}
